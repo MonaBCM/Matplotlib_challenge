{
 "cells": [
  {
   "cell_type": "markdown",
   "metadata": {},
   "source": [
    "Pymaceuticals Inc.\n",
    "\n",
    "\n",
    "Analysis\n",
    "\n",
    "We obtain two data set:\n",
    "First data set include Mouse_Metada Data consist of ID,Se, Age,Weight, and Drug information.Second data set consists of treatment information for the each mice with size of tumor, medication, timepoints, and progress(regress) of tumor.\n",
    "We started our analysis combining two data sets together to determine any relationship between variables in the data.\n",
    "-The data has no biases in the sex of the mice. Female and male mice population is close to each other with male population 1.92% higher. The variance in insignificant.\n",
    "-The sttistical analysis of each drug regimen demonstrated similar distrubition. based standard deviation we can conclude that the data clustered around mean and median. Other than Infubinol drug regimen tehre is no outliers in the data.\n",
    "-Total number of timepoints for all mice tested for each drug regimen show also similar pattern.\n",
    "-when the relationship between # of times mice tested and Tumor volume tested, it conluded that the relationship is linear and negatively correlated. it indicates that at the first test timepoint the tumor volume/mass is high, but tumor reduces volume as medication is applied and the tests are repeated. This concludes that all the other variables being constant, for Drug Regimen Capomulin Treatment is showing progress for mouse \"s185\".\n",
    "-The relationship between mice weight and tumor volume variables also shows linear relationship. Contrary to timepoint the relationship is positive. When tumor volume increases the mouse weight  also increases. \n",
    "\n",
    " "
   ]
  },
  {
   "cell_type": "code",
   "execution_count": null,
   "metadata": {},
   "outputs": [],
   "source": [
    "# Dependencies and Setup\n",
    "import matplotlib.pyplot as plt\n",
    "import pandas as pd\n",
    "import scipy.stats as st\n",
    "import numpy as np\n",
    "import sklearn.datasets as dta\n",
    "from scipy.stats import linregress\n",
    "# Study data files\n",
    "mouse_metadata_path = \"data/Mouse_metadata.csv\"\n",
    "study_results_path = \"data/Study_results.csv\"\n",
    "\n",
    "# Read the mouse data and the study results\n",
    "mouse_metadata = pd.read_csv(mouse_metadata_path)\n",
    "study_results = pd.read_csv(study_results_path)\n",
    "\n",
    "# Combine the data into a single dataset\n",
    "mouse_df=pd.merge(mouse_metadata, study_results, on=[\"Mouse ID\"])\n",
    "\n",
    "# Display the data table for preview\n",
    "mouse_df.head()"
   ]
  },
  {
   "cell_type": "code",
   "execution_count": null,
   "metadata": {},
   "outputs": [],
   "source": [
    "# Checking the number of mice.\n",
    "mouse_df_uniq=mouse_df[\"Mouse ID\"].nunique()\n",
    "mouse_df_uniq"
   ]
  },
  {
   "cell_type": "code",
   "execution_count": null,
   "metadata": {},
   "outputs": [],
   "source": [
    "# Getting the duplicate mice by ID number that shows up for Mouse ID and Timepoint. \n",
    "mouse_df_timepoint=mouse_df.loc[mouse_df.duplicated(subset=[\"Mouse ID\",'Timepoint']),\"Mouse ID\"].unique()\n",
    "\n",
    "duplicated_list=mouse_df_timepoint[0]"
   ]
  },
  {
   "cell_type": "code",
   "execution_count": null,
   "metadata": {},
   "outputs": [],
   "source": [
    "# Optional: Get all the data for the duplicate mouse ID. \n",
    "duplicated_data=mouse_df.loc[mouse_df[\"Mouse ID\"]== duplicated_list]\n",
    "duplicated_data"
   ]
  },
  {
   "cell_type": "code",
   "execution_count": null,
   "metadata": {},
   "outputs": [],
   "source": [
    "# Create a clean DataFrame by dropping the duplicate mouse by its ID.\n",
    "cleaned_data=mouse_df.loc[mouse_df[\"Mouse ID\"]!= duplicated_list]\n",
    "cleaned_data"
   ]
  },
  {
   "cell_type": "code",
   "execution_count": null,
   "metadata": {},
   "outputs": [],
   "source": [
    "# Checking the number of mice in the clean DataFrame.\n",
    "cleaned_data_count=cleaned_data[\"Mouse ID\"].nunique()\n",
    "cleaned_data_count"
   ]
  },
  {
   "cell_type": "markdown",
   "metadata": {},
   "source": [
    "## Summary Statistics"
   ]
  },
  {
   "cell_type": "code",
   "execution_count": null,
   "metadata": {},
   "outputs": [],
   "source": [
    "# Generate a summary statistics table of mean, median, variance, standard deviation, and SEM of the tumor volume for each regimen\n",
    "summary_stat_mean =cleaned_data.groupby([\"Drug Regimen\"]).mean()[\"Tumor Volume (mm3)\"]\n",
    "summary_stat_median =cleaned_data.groupby([\"Drug Regimen\"]).median()[\"Tumor Volume (mm3)\"]\n",
    "summary_stat_std =cleaned_data.groupby([\"Drug Regimen\"]).std()[\"Tumor Volume (mm3)\"]\n",
    "summary_stat_var =cleaned_data.groupby([\"Drug Regimen\"]).var()[\"Tumor Volume (mm3)\"]\n",
    "summary_stat_sem =cleaned_data.groupby([\"Drug Regimen\"]).sem()[\"Tumor Volume (mm3)\"]\n",
    "# Use groupby and summary statistical methods to calculate the following properties of each drug regimen: \n",
    "# mean, median, variance, standard deviation, and SEM of the tumor volume. \n",
    "# Assemble the resulting series into a single summary DataFrame.\n",
    "summary_stat_df=pd.DataFrame({\n",
    "    \"mean\":summary_stat_mean,\n",
    "    \"median\":summary_stat_median,\n",
    "    \"standard_dev\":summary_stat_std,\n",
    "    \"variance\":summary_stat_var,\n",
    "    \"sem\":summary_stat_sem\n",
    "})\n",
    "summary_stat_df"
   ]
  },
  {
   "cell_type": "code",
   "execution_count": null,
   "metadata": {},
   "outputs": [],
   "source": [
    "# Generate a summary statistics table of mean, median, variance, standard deviation, \n",
    "# and SEM of the tumor volume for each regimen\n",
    "summary_stat_mean =cleaned_data.groupby([\"Drug Regimen\"]).mean()[\"Tumor Volume (mm3)\"]\n",
    "summary_stat_median =cleaned_data.groupby([\"Drug Regimen\"]).median()[\"Tumor Volume (mm3)\"]\n",
    "summary_stat_std =cleaned_data.groupby([\"Drug Regimen\"]).std()[\"Tumor Volume (mm3)\"]\n",
    "summary_stat_var =cleaned_data.groupby([\"Drug Regimen\"]).var()[\"Tumor Volume (mm3)\"]\n",
    "summary_stat_sem =cleaned_data.groupby([\"Drug Regimen\"]).sem()[\"Tumor Volume (mm3)\"]\n",
    "# Using the aggregation method, produce the same summary statistics in a single line.\n",
    "summary_stat_agg =cleaned_data.groupby([\"Drug Regimen\"])[\"Tumor Volume (mm3)\"].agg(['mean', 'median', 'var', 'std', 'sem'])\n",
    "summary_stat_agg"
   ]
  },
  {
   "cell_type": "markdown",
   "metadata": {},
   "source": [
    "## Bar and Pie Charts"
   ]
  },
  {
   "cell_type": "code",
   "execution_count": null,
   "metadata": {},
   "outputs": [],
   "source": [
    "# Generate a bar plot showing the total number of timepoints for all mice tested for each drug regimen using Pandas.\n",
    "timepoint_df=cleaned_data['Drug Regimen'].value_counts()\n",
    "timepoint_df\n",
    "cleaned_data.groupby('Drug Regimen').count().plot(kind='bar', legend=False, color='g',alpha=0.7,figsize=(7,4))\n",
    "plt.title('# of Timepoint by Drug Regimen')\n",
    "plt.xlabel('Drug Regimen')\n",
    "plt.ylabel('Timepoint')\n",
    "plt.ylim(0,235)\n",
    "plt.show()"
   ]
  },
  {
   "cell_type": "code",
   "execution_count": null,
   "metadata": {},
   "outputs": [],
   "source": [
    "# Generate a bar plot showing the total number of timepoints for all mice tested for each drug regimen using pyplot.\n",
    "x_axis = timepoint_df.index.values\n",
    "y_axis = timepoint_df.values\n",
    "plt.bar(x_axis, y_axis, color='g', alpha=0.6, align=\"edge\",)\n",
    "plt.xticks(rotation=45, rotation_mode=\"anchor\", ha=\"right\", wrap=True)\n",
    "plt.ylim(0,235)\n",
    "plt.show()\n"
   ]
  },
  {
   "cell_type": "code",
   "execution_count": null,
   "metadata": {},
   "outputs": [],
   "source": [
    "gender_df = cleaned_data[\"Sex\"].value_counts()\n",
    "gender_df"
   ]
  },
  {
   "cell_type": "code",
   "execution_count": null,
   "metadata": {},
   "outputs": [],
   "source": [
    "# Generate a pie plot showing the distribution of female versus male mice using Pandas\n",
    "gender_df.plot(kind= \"pie\",autopct= \"%1.2f%%\")\n",
    "plt.title(\"Female versus Male Mice\")\n",
    "plt.show()\n",
    "plt.tight_layout()"
   ]
  },
  {
   "cell_type": "code",
   "execution_count": null,
   "metadata": {},
   "outputs": [],
   "source": [
    "# Generate a pie plot showing the distribution of female versus male mice using pyplot\n",
    "y=gender_df\n",
    "\n",
    "mylabels =gender_df.index\n",
    "mysizes = gender_df\n",
    "myexplode=[0.05, 0]\n",
    "\n",
    "plt.pie(y,labels = mylabels,  explode = myexplode, shadow = True, autopct=\"%1.2f%%\")\n",
    "plt.title('Female versus Male Mice')\n",
    "plt.ylabel('Sex')\n",
    "plt.show()\n",
    "plt.tight_layout()\n"
   ]
  },
  {
   "cell_type": "markdown",
   "metadata": {},
   "source": [
    "## Quartiles, Outliers and Boxplots"
   ]
  },
  {
   "cell_type": "code",
   "execution_count": null,
   "metadata": {},
   "outputs": [],
   "source": [
    "# Calculate the final tumor volume of each mouse across four of the treatment regimens:  \n",
    "# Capomulin, Ramicane, Infubinol, and Ceftamin\n",
    "list=[\"Capomulin\", \"Ramicane\", \"Infubinol\", \"Ceftamin\"]\n",
    "new_data = cleaned_data[cleaned_data[\"Drug Regimen\"].isin(list)]\n",
    "# Start by getting the last (greatest) timepoint for each mouse\n",
    "new_data_df=new_data.groupby('Mouse ID').max()['Timepoint']\n",
    "\n",
    "new_data_df_last = pd.DataFrame(new_data_df)\n",
    "# Merge this group df with the original DataFrame to get the tumor volume at the last timepoint\n",
    "new_data_mg=pd.merge(new_data_df_last, cleaned_data, on=['Mouse ID',\"Timepoint\"])\n",
    "new_data_mg"
   ]
  },
  {
   "cell_type": "code",
   "execution_count": null,
   "metadata": {},
   "outputs": [],
   "source": []
  },
  {
   "cell_type": "code",
   "execution_count": null,
   "metadata": {},
   "outputs": [],
   "source": [
    "# Put treatments into a list for for loop (and later for plot labels)\n",
    "treatment_list=[\"Capomulin\", \"Ramicane\", \"Infubinol\", \"Ceftamin\"]\n",
    " \n",
    "# Create empty list to fill with tumor vol data (for plotting)\n",
    "tumor_vol_list=[]\n",
    "\n",
    "# Calculate the IQR and quantitatively determine if there are any potential outliers. \n",
    "for drug in treatment_list:   \n",
    "    # Locate the rows which contain mice on each drug and get the tumor volumes\n",
    "    final_tumor_vol=new_data_mg.loc[new_data_mg[\"Drug Regimen\"] == drug, 'Tumor Volume (mm3)']\n",
    "    \n",
    "    # add subset \n",
    "    tumor_vol_list.append(final_tumor_vol)\n",
    "    \n",
    "    # Determine outliers using upper and lower bounds\n",
    "    quartiles = final_tumor_vol.quantile([.25,.5,.75])\n",
    "    lowerq = quartiles[0.25]\n",
    "    upperq = quartiles[0.75]\n",
    "    iqr = upperq-lowerq\n",
    "    lower_bound = lowerq - (1.5*iqr)\n",
    "    upper_bound = upperq + (1.5*iqr)\n",
    "    outliers=final_tumor_vol.loc[(final_tumor_vol< lower_bound)|(final_tumor_vol>upper_bound)]\n",
    "    print(f\"{drug}'s potential outliers: {outliers}\")\n",
    "    drug1=\"Capomulin\"\n",
    "    drug2=\"Ramicane\"\n",
    "    drug3= \"Infubinol\"\n",
    "    drug4=\"Ceftamin\"\n",
    "    cap_vol=new_data_mg.loc[new_data_mg[\"Drug Regimen\"] == drug1, 'Tumor Volume (mm3)']\n",
    "    ram_vol=new_data_mg.loc[new_data_mg[\"Drug Regimen\"] == drug2, 'Tumor Volume (mm3)']\n",
    "    infu_vol=new_data_mg.loc[new_data_mg[\"Drug Regimen\"] == drug3, 'Tumor Volume (mm3)']\n",
    "    cef_vol=new_data_mg.loc[new_data_mg[\"Drug Regimen\"] == drug4, 'Tumor Volume (mm3)']"
   ]
  },
  {
   "cell_type": "code",
   "execution_count": null,
   "metadata": {},
   "outputs": [],
   "source": [
    "# Generate a box plot that shows the distrubution of the tumor volume for each treatment group\n",
    "myflierprops = dict(marker='o', markerfacecolor='green', markersize=12,linestyle='none')\n",
    "plt.boxplot([cap_vol, ram_vol, infu_vol, cef_vol],labels=['Capomulin','Ramicane','Infubinol','Ceftamin'],flierprops=myflierprops,showmeans=True,meanline=True)\n",
    "plt.ylabel('Final Tumor Vol (mm3)')\n",
    "plt.title('The Distrubution for each Treatment Group')\n",
    "plt.ylim(10,75)"
   ]
  },
  {
   "cell_type": "markdown",
   "metadata": {},
   "source": [
    "## Line and Scatter Plots"
   ]
  },
  {
   "cell_type": "code",
   "execution_count": null,
   "metadata": {},
   "outputs": [],
   "source": [
    "# Generate a line plot of tumor volume vs. time point for a mouse treated with Capomulin\n",
    "new_cap_data = cleaned_data[cleaned_data[\"Mouse ID\"] =='s185']\n",
    "new_cap_data\n",
    "\n"
   ]
  },
  {
   "cell_type": "code",
   "execution_count": null,
   "metadata": {},
   "outputs": [],
   "source": [
    "y=new_cap_data['Tumor Volume (mm3)']\n",
    "x=new_cap_data['Timepoint']\n",
    "Mouse_ID=\"s185\"\n",
    "plt.plot(x, y, 'go--', linewidth=2, markersize=12)\n",
    "plt.ylabel('Tumor Vol (mm3)')\n",
    "plt.xlabel('Timepoint')\n",
    "plt.title('Capomulin Treatment Progress for s185')\n",
    "plt.grid(visible=None, which='major', axis='x')\n",
    "plt.xlim(-0.5,46)\n",
    "plt.ylim(20,46)\n",
    "plt.show()"
   ]
  },
  {
   "cell_type": "code",
   "execution_count": null,
   "metadata": {},
   "outputs": [],
   "source": [
    "# Generate a scatter plot of average tumor volume vs. mouse weight for the Capomulin regimen\n",
    "new_cap_df = cleaned_data[cleaned_data[\"Drug Regimen\"] =='Capomulin']\n",
    "new_cap_df\n",
    "average_df=new_cap_df.groupby(['Mouse ID']).mean()\n",
    "average_df\n",
    "x_values=average_df['Weight (g)']\n",
    "y_values=average_df['Tumor Volume (mm3)']\n",
    "plt.scatter(x_values,y_values, color=\"green\")\n",
    "plt.xlabel('Weight (g)',fontsize =14)\n",
    "plt.ylabel('Average Tumor Volume (mm3)')\n",
    "plt.title('Average Tumor Volume vs. Mouse Weight')\n",
    "plt.show()"
   ]
  },
  {
   "cell_type": "markdown",
   "metadata": {},
   "source": [
    "## Correlation and Regression"
   ]
  },
  {
   "cell_type": "code",
   "execution_count": null,
   "metadata": {},
   "outputs": [],
   "source": [
    "# Calculate the correlation coefficient and linear regression model \n",
    "# for mouse weight and average tumor volume for the Capomulin regimen\n",
    "corr_df = st.pearsonr(x_values,y_values)\n",
    "corr_df\n",
    "print(f\"The correlation coefficient between mouse weight and the average tumor volume is {round(corr_df[0],2)}\")\n",
    "\n"
   ]
  },
  {
   "cell_type": "code",
   "execution_count": null,
   "metadata": {},
   "outputs": [],
   "source": [
    "plt.scatter(x_values,y_values, color=\"green\")\n",
    "x_values=average_df['Weight (g)']\n",
    "y_values=average_df['Tumor Volume (mm3)']\n",
    "(slope, intercept, rvalue,pvalue,std_err) = linregress(x_values,y_values)\n",
    "slope=round(slope,2)\n",
    "intercept=round(intercept,2)\n",
    "line_str=f\"y={slope}x+{intercept}\"\n",
    "plt.annotate(line_str,(60,36), fontsize=14)\n",
    "predicted_value=x_values*slope+intercept\n",
    "plt.plot(x_values,predicted_value,\"r-\")\n",
    "print(rvalue**2)\n",
    "plt.xlabel(\"Weight (g)\")\n",
    "plt.ylabel(\"Tumor Volume (mm3)\")\n",
    "plt.title(\"Mouse Weight and Average Tumor Volume for the Capomulin\")\n",
    "plt.show()"
   ]
  },
  {
   "cell_type": "code",
   "execution_count": null,
   "metadata": {},
   "outputs": [],
   "source": []
  }
 ],
 "metadata": {
  "anaconda-cloud": {},
  "kernelspec": {
   "display_name": "Python 3 (ipykernel)",
   "language": "python",
   "name": "python3"
  },
  "language_info": {
   "codemirror_mode": {
    "name": "ipython",
    "version": 3
   },
   "file_extension": ".py",
   "mimetype": "text/x-python",
   "name": "python",
   "nbconvert_exporter": "python",
   "pygments_lexer": "ipython3",
   "version": "3.9.13"
  }
 },
 "nbformat": 4,
 "nbformat_minor": 4
}
